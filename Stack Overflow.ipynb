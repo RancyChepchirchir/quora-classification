{
 "cells": [
  {
   "cell_type": "code",
   "execution_count": 4,
   "metadata": {},
   "outputs": [
    {
     "name": "stdout",
     "output_type": "stream",
     "text": [
      "Collecting StringIO\n",
      "\u001b[31m  Could not find a version that satisfies the requirement StringIO (from versions: )\u001b[0m\n",
      "\u001b[31mNo matching distribution found for StringIO\u001b[0m\n"
     ]
    }
   ],
   "source": [
    "!pip install StringIO"
   ]
  },
  {
   "cell_type": "code",
   "execution_count": 89,
   "metadata": {},
   "outputs": [],
   "source": [
    "d = {'lat' : [0,0.1,-0.1,0.4],\n",
    "    'lng' : [50,50.1,49.6,49.5]}\n",
    "\n",
    "\n",
    "df = pd.DataFrame(d)\n",
    "\n",
    "feature_collection = {\n",
    "  \"type\": \"FeatureCollection\",\n",
    "  \"features\": [\n",
    "    {\n",
    "      \"type\": \"Feature\",\n",
    "      \"properties\": {},\n",
    "      \"geometry\": {\n",
    "        \"type\": \"Polygon\",\n",
    "        \"coordinates\": [\n",
    "          [\n",
    "            [\n",
    "              0,\n",
    "              49\n",
    "            ],\n",
    "            [\n",
    "              0.6,\n",
    "              50\n",
    "            ],\n",
    "            [\n",
    "              0.1,\n",
    "              52\n",
    "            ],\n",
    "            [\n",
    "              -1,\n",
    "              51\n",
    "            ]\n",
    "          ]\n",
    "        ]\n",
    "      }\n",
    "    },\n",
    "    {\n",
    "      \"type\": \"Feature\",\n",
    "      \"properties\": {},\n",
    "      \"geometry\": {\n",
    "        \"type\": \"Point\",\n",
    "        \"coordinates\": [\n",
    "          0,\n",
    "          50\n",
    "        ]\n",
    "      }\n",
    "    },\n",
    "    {\n",
    "      \"type\": \"Feature\",\n",
    "      \"properties\": {},\n",
    "      \"geometry\": {\n",
    "        \"type\": \"Point\",\n",
    "        \"coordinates\": [\n",
    "          0.1,\n",
    "          50.1\n",
    "        ]\n",
    "      }\n",
    "    },\n",
    "    {\n",
    "      \"type\": \"Feature\",\n",
    "      \"properties\": {},\n",
    "      \"geometry\": {\n",
    "        \"type\": \"Point\",\n",
    "        \"coordinates\": [\n",
    "          -0.1,\n",
    "          49.6\n",
    "        ]\n",
    "      }\n",
    "    },\n",
    "    {\n",
    "      \"type\": \"Feature\",\n",
    "      \"properties\": {},\n",
    "      \"geometry\": {\n",
    "        \"type\": \"Point\",\n",
    "        \"coordinates\": [\n",
    "          0.4,\n",
    "          49.5\n",
    "        ]\n",
    "      }\n",
    "    }\n",
    "  ]\n",
    "}"
   ]
  },
  {
   "cell_type": "code",
   "execution_count": 90,
   "metadata": {},
   "outputs": [
    {
     "data": {
      "text/html": [
       "<div>\n",
       "<style scoped>\n",
       "    .dataframe tbody tr th:only-of-type {\n",
       "        vertical-align: middle;\n",
       "    }\n",
       "\n",
       "    .dataframe tbody tr th {\n",
       "        vertical-align: top;\n",
       "    }\n",
       "\n",
       "    .dataframe thead th {\n",
       "        text-align: right;\n",
       "    }\n",
       "</style>\n",
       "<table border=\"1\" class=\"dataframe\">\n",
       "  <thead>\n",
       "    <tr style=\"text-align: right;\">\n",
       "      <th></th>\n",
       "      <th>lat</th>\n",
       "      <th>lng</th>\n",
       "    </tr>\n",
       "  </thead>\n",
       "  <tbody>\n",
       "    <tr>\n",
       "      <th>0</th>\n",
       "      <td>0.0</td>\n",
       "      <td>50.0</td>\n",
       "    </tr>\n",
       "    <tr>\n",
       "      <th>1</th>\n",
       "      <td>0.1</td>\n",
       "      <td>50.1</td>\n",
       "    </tr>\n",
       "    <tr>\n",
       "      <th>2</th>\n",
       "      <td>-0.1</td>\n",
       "      <td>49.6</td>\n",
       "    </tr>\n",
       "    <tr>\n",
       "      <th>3</th>\n",
       "      <td>0.4</td>\n",
       "      <td>49.5</td>\n",
       "    </tr>\n",
       "  </tbody>\n",
       "</table>\n",
       "</div>"
      ],
      "text/plain": [
       "   lat   lng\n",
       "0  0.0  50.0\n",
       "1  0.1  50.1\n",
       "2 -0.1  49.6\n",
       "3  0.4  49.5"
      ]
     },
     "execution_count": 90,
     "metadata": {},
     "output_type": "execute_result"
    }
   ],
   "source": [
    "df"
   ]
  },
  {
   "cell_type": "code",
   "execution_count": 102,
   "metadata": {},
   "outputs": [],
   "source": [
    "from shapely.geometry import shape, Point\n",
    "# check each polygon to see if it contains the point"
   ]
  },
  {
   "cell_type": "code",
   "execution_count": 122,
   "metadata": {},
   "outputs": [
    {
     "name": "stdout",
     "output_type": "stream",
     "text": [
      "826 µs ± 1.14 µs per loop (mean ± std. dev. of 7 runs, 1000 loops each)\n"
     ]
    }
   ],
   "source": [
    "%%timeit\n",
    "for row in df.itertuples():\n",
    "    point = Point(row.lat, row.lng)\n",
    "    if polygon.contains(point):\n",
    "        pass\n",
    "        # print('Found containing polygon:', feature)"
   ]
  },
  {
   "cell_type": "code",
   "execution_count": 123,
   "metadata": {},
   "outputs": [
    {
     "name": "stdout",
     "output_type": "stream",
     "text": [
      "484 µs ± 1.02 µs per loop (mean ± std. dev. of 7 runs, 1000 loops each)\n"
     ]
    }
   ],
   "source": [
    "%%timeit\n",
    "\n",
    "for index, row in df.iterrows():\n",
    "    point = Point(row.lat, row.lng)\n",
    "    if polygon.contains(point):\n",
    "        pass\n",
    "        # print('Found containing polygon:', feature)"
   ]
  },
  {
   "cell_type": "code",
   "execution_count": 121,
   "metadata": {},
   "outputs": [
    {
     "name": "stdout",
     "output_type": "stream",
     "text": [
      "1.03 ms ± 635 ns per loop (mean ± std. dev. of 7 runs, 1000 loops each)\n"
     ]
    }
   ],
   "source": [
    "%%timeit\n",
    "df.iloc[:, :].apply(lambda x: polygon.contains(Point(x.lat, x.lng)), axis = 1)"
   ]
  },
  {
   "cell_type": "code",
   "execution_count": 92,
   "metadata": {},
   "outputs": [],
   "source": [
    "polygon = shape(feature_collection['features'][0]['geometry'])"
   ]
  },
  {
   "cell_type": "code",
   "execution_count": 101,
   "metadata": {},
   "outputs": [
    {
     "data": {
      "text/plain": [
       "(-1.0, 49.0, 0.6, 52.0)"
      ]
     },
     "execution_count": 101,
     "metadata": {},
     "output_type": "execute_result"
    }
   ],
   "source": [
    "polygon."
   ]
  },
  {
   "cell_type": "code",
   "execution_count": 93,
   "metadata": {},
   "outputs": [
    {
     "data": {
      "text/plain": [
       "{'type': 'Point', 'coordinates': [0.4, 49.5]}"
      ]
     },
     "execution_count": 93,
     "metadata": {},
     "output_type": "execute_result"
    }
   ],
   "source": [
    "feature['geometry']"
   ]
  },
  {
   "cell_type": "code",
   "execution_count": 94,
   "metadata": {},
   "outputs": [
    {
     "data": {
      "text/plain": [
       "{'type': 'Polygon', 'coordinates': [[[0, 49], [0.6, 50], [0.1, 52], [-1, 51]]]}"
      ]
     },
     "execution_count": 94,
     "metadata": {},
     "output_type": "execute_result"
    }
   ],
   "source": [
    "feature_collection['features'][0]['geometry']"
   ]
  },
  {
   "cell_type": "code",
   "execution_count": 95,
   "metadata": {},
   "outputs": [
    {
     "data": {
      "image/svg+xml": [
       "<svg xmlns=\"http://www.w3.org/2000/svg\" xmlns:xlink=\"http://www.w3.org/1999/xlink\" width=\"100.0\" height=\"100.0\" viewBox=\"-1.12 48.88 1.84 3.239999999999995\" preserveAspectRatio=\"xMinYMin meet\"><g transform=\"matrix(1,0,0,-1,0,101.0)\"><path fill-rule=\"evenodd\" fill=\"#66cc99\" stroke=\"#555555\" stroke-width=\"0.0647999999999999\" opacity=\"0.6\" d=\"M 0.0,49.0 L 0.6,50.0 L 0.1,52.0 L -1.0,51.0 L 0.0,49.0 z\" /></g></svg>"
      ],
      "text/plain": [
       "<shapely.geometry.polygon.Polygon at 0x7f7cbf83e470>"
      ]
     },
     "execution_count": 95,
     "metadata": {},
     "output_type": "execute_result"
    }
   ],
   "source": [
    "polygon"
   ]
  },
  {
   "cell_type": "code",
   "execution_count": 99,
   "metadata": {},
   "outputs": [
    {
     "data": {
      "text/plain": [
       "True"
      ]
     },
     "execution_count": 99,
     "metadata": {},
     "output_type": "execute_result"
    }
   ],
   "source": [
    "polygon.contains(Point(0, 50))"
   ]
  },
  {
   "cell_type": "code",
   "execution_count": 68,
   "metadata": {},
   "outputs": [
    {
     "data": {
      "text/plain": [
       "0.4"
      ]
     },
     "execution_count": 68,
     "metadata": {},
     "output_type": "execute_result"
    }
   ],
   "source": [
    "row.lat"
   ]
  },
  {
   "cell_type": "code",
   "execution_count": 69,
   "metadata": {},
   "outputs": [
    {
     "data": {
      "text/plain": [
       "49.5"
      ]
     },
     "execution_count": 69,
     "metadata": {},
     "output_type": "execute_result"
    }
   ],
   "source": [
    "row.lng"
   ]
  },
  {
   "cell_type": "code",
   "execution_count": 79,
   "metadata": {},
   "outputs": [
    {
     "data": {
      "text/plain": [
       "False"
      ]
     },
     "execution_count": 79,
     "metadata": {},
     "output_type": "execute_result"
    }
   ],
   "source": [
    "polygon.contains(point)"
   ]
  },
  {
   "cell_type": "code",
   "execution_count": 9,
   "metadata": {},
   "outputs": [
    {
     "data": {
      "image/png": "[encoded data removed]",
      "text/plain": [
       "<Figure size 864x576 with 1 Axes>"
      ]
     },
     "metadata": {
      "needs_background": "light"
     },
     "output_type": "display_data"
    }
   ],
   "source": [
    "import numpy as np\n",
    "import pandas as pd\n",
    "import matplotlib.pyplot as plt\n",
    "from io import StringIO\n",
    "\n",
    "data2 = StringIO(\"\"\"\n",
    "\n",
    "date        value\n",
    "09-Oct-17   0.304\n",
    "10-Nov-17   0.316\n",
    "26-Nov-17   0.636\n",
    "12-Dec-17   0.652\n",
    "28-Dec-17   0.639\n",
    "13-Jan-18   0.623\n",
    "02-Mar-18   0.619\n",
    "18-Mar-18   0.608\n",
    "19-Apr-18   0.605\n",
    "05-May-18   0.625\n",
    "06-Jun-18   0.639\n",
    "22-Jun-18   0.663\n",
    "08-Jul-18   0.64\n",
    "24-Jul-18   0.623\n",
    "09-Aug-18   0.632\n",
    "28-Oct-18   0.736\n",
    "\"\"\")\n",
    "\n",
    "df2 = pd.read_table(data2, delim_whitespace=True)\n",
    "\n",
    "df2.loc[:, \"date\"] = pd.to_datetime(df2.loc[:, \"date\"], format=\"%d-%b-%y\")\n",
    "\n",
    "y_values2 = df2.loc[:, \"value\"]\n",
    "x_values2 = np.linspace(0,1,len(df2.loc[:, \"value\"]))\n",
    "poly_degree = 4\n",
    "\n",
    "coeffs2 = np.polyfit(x_values2, y_values2, poly_degree)\n",
    "poly_eqn2 = np.poly1d(coeffs2)\n",
    "y_hat2 = poly_eqn2(x_values2)\n",
    "\n",
    "plt.figure(figsize=(12,8))\n",
    "\n",
    "plt.plot(df2.loc[:, \"date\"], df2.loc[:,\"value\"] ,\"ro\",color='green')\n",
    "plt.plot(df2.loc[:, \"date\"],y_hat2)\n",
    "plt.plot(df2.loc[:, \"date\"], df2.loc[:,\"value\"] ,\"ro\",color='red')\n",
    "plt.plot(df2.loc[:, \"date\"],y_hat2)\n",
    "plt.title('WSC-10-50')\n",
    "plt.ylabel('NDVI')\n",
    "plt.xlabel('Date')\n",
    "plt.savefig(\"NDVI_plot.png\")"
   ]
  },
  {
   "cell_type": "code",
   "execution_count": 10,
   "metadata": {},
   "outputs": [
    {
     "data": {
      "text/plain": [
       "array([0.26920034, 0.43744672, 0.54649007, 0.61012786, 0.64057918,\n",
       "       0.64848469, 0.64290665, 0.63132892, 0.61965691, 0.61221766,\n",
       "       0.61175977, 0.61945345, 0.63489048, 0.65608424, 0.67946969,\n",
       "       0.69990338])"
      ]
     },
     "execution_count": 10,
     "metadata": {},
     "output_type": "execute_result"
    }
   ],
   "source": [
    "y_hat2"
   ]
  },
  {
   "cell_type": "code",
   "execution_count": null,
   "metadata": {},
   "outputs": [],
   "source": [
    "import yaml\n",
    "import os\n",
    "\n",
    "template_yaml = 'ex.yaml'\n",
    "# In this same folder you would find flavor2, flavor3, flavor4, etc, lets just use 1 for now\n",
    "data_yaml = os.path.abspath(os.path.join(os.path.dirname(__file__), 'data_files', 'flavor1.yaml'))\n",
    "# This is where we dump the filled out template the app will actually use\n",
    "output_directory = os.path.abspath(os.path.join(os.path.dirname(__file__), os.path.pardir))\n",
    "\n",
    "with open(template_yaml, 'r') as template:\n",
    "    try:\n",
    "        loaded_template = yaml.load(template)  # Load the template as a dict\n",
    "        with open(data_yaml , 'r') as data:\n",
    "            loaded_data= yaml.load(data)  # Load the data as a dict\n",
    "        # From this point on I am basically just setting individual keys from \"loaded_template\" to values in \"loaded_data\"\n",
    "        # But 1 at a time, which is what I am trying to avoid:\n",
    "        loaded_template['id'] = loaded_data['id']\n",
    "        loaded_template['endpoints']['url1'] = loaded_template['endpoints']['url1'].format(loaded_data['id'])\n",
    "        loaded_template['foo']['bar']['deeply']['nested'] = loaded_data['id']"
   ]
  },
  {
   "cell_type": "code",
   "execution_count": 57,
   "metadata": {},
   "outputs": [],
   "source": [
    "new_file = []\n",
    "\n",
    "# New id for replacement\n",
    "id_ = '123'\n",
    "\n",
    "# Open file \n",
    "with open('ex.yaml', 'r') as f:\n",
    "    # Iterate through each line\n",
    "    for l in f:\n",
    "        # Replace every id occurrence\n",
    "        new_file.append(l.replace('{id}', id_))\n",
    "\n",
    "# Save the new file\n",
    "with open('new_file.yaml', 'w') as f:\n",
    "    for l in new_file:\n",
    "        f.write(l)"
   ]
  },
  {
   "cell_type": "code",
   "execution_count": 56,
   "metadata": {},
   "outputs": [
    {
     "data": {
      "text/plain": [
       "['---\\n',\n",
       " 'id: 123\\n',\n",
       " 'endpoints:\\n',\n",
       " '  url1: https://website.com/123/search\\n',\n",
       " '  url2: https://website.com/foo/123/get_thing\\n',\n",
       " '  url3: https://website.com/hello/world/123/trigger_stuff\\n',\n",
       " 'foo:\\n',\n",
       " '  bar:\\n',\n",
       " '    deeply:\\n',\n",
       " '      nested: 123',\n",
       " ['---\\n'],\n",
       " ['id: 123\\n'],\n",
       " ['endpoints:\\n'],\n",
       " ['  url1: https://website.com/123/search\\n'],\n",
       " ['  url2: https://website.com/foo/123/get_thing\\n'],\n",
       " ['  url3: https://website.com/hello/world/123/trigger_stuff\\n'],\n",
       " ['foo:\\n'],\n",
       " ['  bar:\\n'],\n",
       " ['    deeply:\\n'],\n",
       " ['      nested: 123'],\n",
       " '---\\n',\n",
       " 'id: 123\\n',\n",
       " 'endpoints:\\n',\n",
       " '  url1: https://website.com/123/search\\n',\n",
       " '  url2: https://website.com/foo/123/get_thing\\n',\n",
       " '  url3: https://website.com/hello/world/123/trigger_stuff\\n',\n",
       " 'foo:\\n',\n",
       " '  bar:\\n',\n",
       " '    deeply:\\n',\n",
       " '      nested: 123']"
      ]
     },
     "execution_count": 56,
     "metadata": {},
     "output_type": "execute_result"
    }
   ],
   "source": [
    "new_file"
   ]
  },
  {
   "cell_type": "code",
   "execution_count": 47,
   "metadata": {},
   "outputs": [
    {
     "data": {
      "text/plain": [
       "['---\\n',\n",
       " 'id: {id}\\n',\n",
       " 'endpoints:\\n',\n",
       " '  url1: https://website.com/{id}/search\\n',\n",
       " '  url2: https://website.com/foo/{id}/get_thing\\n',\n",
       " '  url3: https://website.com/hello/world/{id}/trigger_stuff\\n',\n",
       " 'foo:\\n',\n",
       " '  bar:\\n',\n",
       " '    deeply:\\n',\n",
       " '      nested: {id}']"
      ]
     },
     "execution_count": 47,
     "metadata": {},
     "output_type": "execute_result"
    }
   ],
   "source": [
    "t"
   ]
  },
  {
   "cell_type": "code",
   "execution_count": 50,
   "metadata": {},
   "outputs": [
    {
     "data": {
      "text/plain": [
       "['---\\n',\n",
       " 'id: 123\\n',\n",
       " 'endpoints:\\n',\n",
       " '  url1: https://website.com/123/search\\n',\n",
       " '  url2: https://website.com/foo/123/get_thing\\n',\n",
       " '  url3: https://website.com/hello/world/123/trigger_stuff\\n',\n",
       " 'foo:\\n',\n",
       " '  bar:\\n',\n",
       " '    deeply:\\n',\n",
       " '      nested: 123']"
      ]
     },
     "execution_count": 50,
     "metadata": {},
     "output_type": "execute_result"
    }
   ],
   "source": [
    "id_ = 123\n",
    "new_file = [i.replace('{id}', str(id_)) for i in t]\n",
    "new_file"
   ]
  },
  {
   "cell_type": "code",
   "execution_count": 51,
   "metadata": {},
   "outputs": [],
   "source": [
    "with open('new_file.yaml', 'w') as f:\n",
    "    for i in new_file:\n",
    "        f.write(i)"
   ]
  },
  {
   "cell_type": "code",
   "execution_count": 39,
   "metadata": {},
   "outputs": [
    {
     "data": {
      "text/plain": [
       "\"{'id': {'id': None}, 'endpoints': {'url1': 'https://website.com/{id}/search', 'url2': 'https://website.com/foo/{id}/get_thing', 'url3': 'https://website.com/hello/world/{id}/trigger_stuff'}, 'foo': {'bar': {'deeply': {'nested': {'id': None}}}}}\""
      ]
     },
     "execution_count": 39,
     "metadata": {},
     "output_type": "execute_result"
    }
   ],
   "source": [
    "doc"
   ]
  },
  {
   "cell_type": "code",
   "execution_count": 16,
   "metadata": {},
   "outputs": [],
   "source": [
    "new_file"
   ]
  },
  {
   "cell_type": "code",
   "execution_count": 19,
   "metadata": {},
   "outputs": [
    {
     "data": {
      "text/plain": [
       "''"
      ]
     },
     "execution_count": 19,
     "metadata": {},
     "output_type": "execute_result"
    }
   ],
   "source": [
    "new_file = open('ex.yaml', 'r').read()\n",
    "new_file"
   ]
  },
  {
   "cell_type": "code",
   "execution_count": 18,
   "metadata": {},
   "outputs": [],
   "source": [
    "with open('ex.yaml', 'r') as f:\n",
    "    new_file = yaml.load(f.read())\n",
    "    \n",
    "new_file"
   ]
  },
  {
   "cell_type": "code",
   "execution_count": null,
   "metadata": {},
   "outputs": [],
   "source": [
    "id: {{id}}\n",
    "endpoints:\n",
    "  url1: https://website.com/{{id}}/search\n",
    "  url2: https://website.com/foo/{{id}}/get_thing\n",
    "  url3: https://website.com/hello/world/{{id}}/trigger_stuff\n",
    "foo:\n",
    "  bar:\n",
    "    deeply:\n",
    "      nested: {{id}}"
   ]
  },
  {
   "cell_type": "code",
   "execution_count": 59,
   "metadata": {},
   "outputs": [
    {
     "name": "stdout",
     "output_type": "stream",
     "text": [
      "predictions\n",
      "[255.81049569325114, 10]\n",
      "true values\n",
      "[420   8]\n"
     ]
    }
   ],
   "source": [
    "from sklearn.linear_model import LinearRegression\n",
    "import pandas as pd\n",
    "from sklearn.model_selection import train_test_split\n",
    "\n",
    "def main():\n",
    "    mylist = [\n",
    "    {'Id':101,'Username':\"john\",'Date':1475359200,'Announcement':111,'Result':50},\n",
    "    {'Id':104,'Username':\"john\",'Date':1475359905,'Announcement':40,'Result':23},\n",
    "    {'Id':222,'Username':\"dave\",'Date':1475399212,'Announcement':600,'Result':420},\n",
    "    {'Id':301,'Username':\"john\",'Date':1475559256,'Announcement':300,'Result':150},\n",
    "    {'Id':407,'Username':\"dave\",'Date':1475659277,'Announcement':10,'Result':8}\n",
    "    ]\n",
    "\n",
    "    df = pd.DataFrame(mylist)\n",
    "    df['Username'] =  pd.Series(pd.factorize(df['Username'])[0] + 1).astype('category')\n",
    "    y = df['Result'].values\n",
    "    df = df.drop('Result', axis=1)\n",
    "    X_train, X_test, y_train, y_test = train_test_split(df, y, random_state=2)\n",
    "    clf = LinearRegression()\n",
    "    clf.fit(X_train, y_train)\n",
    "    predictions = clf.predict(X_test)\n",
    "    predictions = [p if p < a else a for p, a in zip(predictions, X_test['Announcement'])]\n",
    "    print(\"predictions\")\n",
    "    print(predictions)\n",
    "    print(\"true values\")\n",
    "    print(y_test)\n",
    "\n",
    "if __name__ == '__main__':\n",
    "    main()"
   ]
  },
  {
   "cell_type": "code",
   "execution_count": null,
   "metadata": {},
   "outputs": [],
   "source": []
  }
 ],
 "metadata": {
  "kernelspec": {
   "display_name": "Python 3",
   "language": "python",
   "name": "python3"
  },
  "language_info": {
   "codemirror_mode": {
    "name": "ipython",
    "version": 3
   },
   "file_extension": ".py",
   "mimetype": "text/x-python",
   "name": "python",
   "nbconvert_exporter": "python",
   "pygments_lexer": "ipython3",
   "version": "3.6.6"
  },
  "toc": {
   "base_numbering": 1,
   "nav_menu": {},
   "number_sections": true,
   "sideBar": true,
   "skip_h1_title": false,
   "title_cell": "Table of Contents",
   "title_sidebar": "Contents",
   "toc_cell": false,
   "toc_position": {},
   "toc_section_display": true,
   "toc_window_display": false
  },
  "varInspector": {
   "cols": {
    "lenName": 16,
    "lenType": 16,
    "lenVar": 40
   },
   "kernels_config": {
    "python": {
     "delete_cmd_postfix": "",
     "delete_cmd_prefix": "del ",
     "library": "var_list.py",
     "varRefreshCmd": "print(var_dic_list())"
    },
    "r": {
     "delete_cmd_postfix": ") ",
     "delete_cmd_prefix": "rm(",
     "library": "var_list.r",
     "varRefreshCmd": "cat(var_dic_list()) "
    }
   },
   "types_to_exclude": [
    "module",
    "function",
    "builtin_function_or_method",
    "instance",
    "_Feature"
   ],
   "window_display": false
  }
 },
 "nbformat": 4,
 "nbformat_minor": 2
}
