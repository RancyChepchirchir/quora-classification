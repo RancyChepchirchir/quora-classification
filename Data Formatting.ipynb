{
 "cells": [
  {
   "cell_type": "markdown",
   "metadata": {},
   "source": [
    "# Introduction: Formatting Data\n",
    "\n",
    "In this notebook, we format data for document classification. These documents are Quora questions that need to be labeled sincere or insincere. We will format the data in two ways, into words, or into characters."
   ]
  },
  {
   "cell_type": "code",
   "execution_count": 2,
   "metadata": {},
   "outputs": [
    {
     "data": {
      "text/plain": [
       "['paragram_300_sl999',\n",
       " 'GoogleNews-vectors-negative300',\n",
       " 'wiki-news-300d-1M',\n",
       " 'sample_submission.csv',\n",
       " 'train.csv',\n",
       " 'test.csv',\n",
       " 'glove.840B.300d',\n",
       " 'models']"
      ]
     },
     "execution_count": 2,
     "metadata": {},
     "output_type": "execute_result"
    }
   ],
   "source": [
    "import pandas as pd\n",
    "import numpy as np\n",
    "\n",
    "from keras.preprocessing.text import Tokenizer\n",
    "from keras.preprocessing.sequence import pad_sequences\n",
    "import os\n",
    "import re\n",
    "\n",
    "from IPython.core.interactiveshell import InteractiveShell\n",
    "InteractiveShell.ast_node_interactivity = 'all'\n",
    "\n",
    "datadir = '/home/wjk68/data/quora/'\n",
    "\n",
    "os.listdir(datadir)"
   ]
  },
  {
   "cell_type": "code",
   "execution_count": 3,
   "metadata": {},
   "outputs": [
    {
     "data": {
      "text/plain": [
       "(1306122, 56370)"
      ]
     },
     "execution_count": 3,
     "metadata": {},
     "output_type": "execute_result"
    }
   ],
   "source": [
    "train = pd.read_csv(datadir + 'train.csv')\n",
    "texts = list(train['question_text'])\n",
    "labels = list(train['target'])\n",
    "\n",
    "test = pd.read_csv(datadir + 'test.csv')\n",
    "test_texts = list(test['question_text'])\n",
    "\n",
    "len(texts), len(test_texts)"
   ]
  },
  {
   "cell_type": "code",
   "execution_count": 7,
   "metadata": {},
   "outputs": [],
   "source": [
    "def format_sequence(s):\n",
    "    \"\"\"Add spaces around punctuation.\"\"\"\n",
    "\n",
    "    # Add spaces around punctuation\n",
    "    s = re.sub(\n",
    "        r'(?<=[^\\s])(?=[“”!\\\"#$%&()*+,./:;<=>?@[\\]^_`{|}~\\t\\n])|(?=[^\\s])(?<=[“”!\\\"#$%&()*+,./:;<=>?@[\\]^_`{|}~\\t\\n])', r' ', s)\n",
    "\n",
    "    # Remove double spaces\n",
    "    s = re.sub(r'\\s\\s', ' ', s)\n",
    "    return s\n",
    "\n",
    "texts = [format_sequence(text) for text in texts]\n",
    "test_texts = [format_sequence(text) for text in test_texts]"
   ]
  },
  {
   "cell_type": "code",
   "execution_count": 9,
   "metadata": {},
   "outputs": [
    {
     "name": "stdout",
     "output_type": "stream",
     "text": [
      "There are 59727 words with more than 5 occurrences.\n"
     ]
    }
   ],
   "source": [
    "tokenizer = Tokenizer(lower = False, filters = '')\n",
    "tokenizer.fit_on_texts(texts)\n",
    "wc = tokenizer.word_counts\n",
    "wc = sorted(wc.items(), key = lambda x: x[1], reverse = True)\n",
    "\n",
    "keep_min = 5\n",
    "keep = [count[0] for count in wc if count[1] >= keep_min]\n",
    "\n",
    "print(f'There are {len(keep)} words with more than {keep_min} occurrences.')"
   ]
  },
  {
   "cell_type": "code",
   "execution_count": 44,
   "metadata": {},
   "outputs": [],
   "source": [
    "tokenizer = Tokenizer(num_words = len(keep), lower = False, \n",
    "                      filters = '', oov_token = 'UNK')\n",
    "tokenizer.fit_on_texts(texts)\n",
    "sequences = tokenizer.texts_to_sequences(texts)\n",
    "test_sequences = tokenizer.texts_to_sequences(test_texts)"
   ]
  },
  {
   "cell_type": "code",
   "execution_count": 28,
   "metadata": {},
   "outputs": [
    {
     "data": {
      "text/plain": [
       "(59728, 59727)"
      ]
     },
     "execution_count": 28,
     "metadata": {},
     "output_type": "execute_result"
    }
   ],
   "source": [
    "word_index = dict(list(tokenizer.word_index.items())[:len(keep)])\n",
    "word_index['PAD'] = 0\n",
    "len(word_index), tokenizer.num_words"
   ]
  },
  {
   "cell_type": "code",
   "execution_count": 29,
   "metadata": {},
   "outputs": [],
   "source": [
    "index_word = dict(list(tokenizer.index_word.items())[:len(keep)])\n",
    "index_word[0] = 'PAD'\n",
    "vs = tokenizer.num_words + 1"
   ]
  },
  {
   "cell_type": "code",
   "execution_count": 30,
   "metadata": {},
   "outputs": [
    {
     "data": {
      "text/plain": [
       "1"
      ]
     },
     "execution_count": 30,
     "metadata": {},
     "output_type": "execute_result"
    }
   ],
   "source": [
    "word_index['UNK']"
   ]
  },
  {
   "cell_type": "code",
   "execution_count": 31,
   "metadata": {},
   "outputs": [
    {
     "data": {
      "text/plain": [
       "[('?', 1381190),\n",
       " ('the', 655017),\n",
       " ('What', 418491),\n",
       " ('to', 405796),\n",
       " ('a', 404386),\n",
       " ('in', 366895),\n",
       " ('is', 333568),\n",
       " ('of', 332834),\n",
       " ('I', 309502),\n",
       " ('How', 262904),\n",
       " ('and', 254031),\n",
       " (',', 235093),\n",
       " ('are', 213723),\n",
       " ('do', 212919),\n",
       " ('for', 201864)]"
      ]
     },
     "execution_count": 31,
     "metadata": {},
     "output_type": "execute_result"
    }
   ],
   "source": [
    "wc = tokenizer.word_counts\n",
    "wc = sorted(wc.items(), key = lambda x: x[1], reverse = True)\n",
    "wc[:15]"
   ]
  },
  {
   "cell_type": "code",
   "execution_count": 32,
   "metadata": {},
   "outputs": [
    {
     "data": {
      "text/plain": [
       "(1, 503)"
      ]
     },
     "execution_count": 32,
     "metadata": {},
     "output_type": "execute_result"
    }
   ],
   "source": [
    "lens = [len(s) for s in sequences]\n",
    "min(lens), max(lens)"
   ]
  },
  {
   "cell_type": "code",
   "execution_count": 33,
   "metadata": {},
   "outputs": [
    {
     "data": {
      "image/png": "[encoded data removed]",
      "text/plain": [
       "<Figure size 432x288 with 1 Axes>"
      ]
     },
     "metadata": {
      "needs_background": "light"
     },
     "output_type": "display_data"
    }
   ],
   "source": [
    "import matplotlib.pyplot as plt\n",
    "%matplotlib inline\n",
    "\n",
    "plt.hist(lens);"
   ]
  },
  {
   "cell_type": "code",
   "execution_count": 34,
   "metadata": {},
   "outputs": [
    {
     "data": {
      "text/plain": [
       "count    1.306122e+06\n",
       "mean     1.443420e+01\n",
       "std      7.912828e+00\n",
       "min      1.000000e+00\n",
       "25%      9.000000e+00\n",
       "50%      1.200000e+01\n",
       "75%      1.700000e+01\n",
       "max      5.030000e+02\n",
       "dtype: float64"
      ]
     },
     "execution_count": 34,
     "metadata": {},
     "output_type": "execute_result"
    }
   ],
   "source": [
    "pd.Series(lens).describe()"
   ]
  },
  {
   "cell_type": "code",
   "execution_count": 47,
   "metadata": {},
   "outputs": [
    {
     "data": {
      "text/plain": [
       "(142121, 64938)"
      ]
     },
     "execution_count": 47,
     "metadata": {},
     "output_type": "execute_result"
    }
   ],
   "source": [
    "min_sequence_len = 8\n",
    "max_sequence_len = 30\n",
    "np.sum(np.array(lens) < min_sequence_len), np.sum(np.array(lens) > max_sequence_len)"
   ]
  },
  {
   "cell_type": "code",
   "execution_count": 48,
   "metadata": {},
   "outputs": [
    {
     "data": {
      "text/plain": [
       "1099063"
      ]
     },
     "execution_count": 48,
     "metadata": {},
     "output_type": "execute_result"
    }
   ],
   "source": [
    "idx = [i for i, s in enumerate(sequences) if (len(s) >= min_sequence_len and len(s) <= max_sequence_len)]\n",
    "len(idx)"
   ]
  },
  {
   "cell_type": "code",
   "execution_count": 49,
   "metadata": {},
   "outputs": [
    {
     "data": {
      "text/plain": [
       "((1099063, 30), (56370, 30))"
      ]
     },
     "execution_count": 49,
     "metadata": {},
     "output_type": "execute_result"
    }
   ],
   "source": [
    "sequences = pad_sequences(sequences, max_sequence_len)\n",
    "test_sequences = pad_sequences(test_sequences, max_sequence_len)\n",
    "\n",
    "seq_arr = np.array(sequences)[idx]\n",
    "labels = np.array(labels)[idx]\n",
    "test_seq_arr = np.array(test_sequences)\n",
    "\n",
    "seq_arr.shape, test_seq_arr.shape"
   ]
  },
  {
   "cell_type": "code",
   "execution_count": 50,
   "metadata": {},
   "outputs": [],
   "source": [
    "np.save('word_sequences.npy', seq_arr)\n",
    "np.save('word_labels.npy', labels)\n",
    "np.save('test_word_sequences.npy', test_seq_arr)"
   ]
  },
  {
   "cell_type": "code",
   "execution_count": 61,
   "metadata": {},
   "outputs": [
    {
     "data": {
      "text/plain": [
       "1068893"
      ]
     },
     "execution_count": 61,
     "metadata": {},
     "output_type": "execute_result"
    },
    {
     "data": {
      "text/plain": [
       "1188349"
      ]
     },
     "execution_count": 61,
     "metadata": {},
     "output_type": "execute_result"
    },
    {
     "data": {
      "text/plain": [
       "4928745"
      ]
     },
     "execution_count": 61,
     "metadata": {},
     "output_type": "execute_result"
    }
   ],
   "source": [
    "import json\n",
    "\n",
    "with open('word_word_index.json', 'w') as f:\n",
    "    f.write(json.dumps(word_index))\n",
    "    \n",
    "with open('word_index_word.json', 'w') as f:\n",
    "    f.write(json.dumps(index_word))\n",
    "    \n",
    "with open('word_wc.json', 'w') as f:\n",
    "    f.write(json.dumps(wc))"
   ]
  },
  {
   "cell_type": "code",
   "execution_count": 51,
   "metadata": {},
   "outputs": [],
   "source": [
    "seq_arr = np.load('word_sequences.npy')\n",
    "test_seq_arr = np.load('test_word_sequences.npy')\n",
    "labels = np.load('word_labels.npy')"
   ]
  },
  {
   "cell_type": "markdown",
   "metadata": {},
   "source": [
    "## Embeddings"
   ]
  },
  {
   "cell_type": "code",
   "execution_count": 52,
   "metadata": {},
   "outputs": [],
   "source": [
    "EMBEDDING_FILE = datadir + 'glove.840B.300d/glove.840B.300d.txt'"
   ]
  },
  {
   "cell_type": "code",
   "execution_count": 53,
   "metadata": {},
   "outputs": [
    {
     "name": "stdout",
     "output_type": "stream",
     "text": [
      "2196017 /home/wjk68/data/quora/glove.840B.300d/glove.840B.300d.txt\r\n"
     ]
    }
   ],
   "source": [
    "!wc -l {EMBEDDING_FILE}"
   ]
  },
  {
   "cell_type": "code",
   "execution_count": 56,
   "metadata": {},
   "outputs": [],
   "source": [
    "def get_coefs(word,*arr): \n",
    "    return word, np.asarray(arr, dtype='float32')\n",
    "\n",
    "glove_embeddings_index = []\n",
    "\n",
    "with open(EMBEDDING_FILE) as f:\n",
    "    for i, l in enumerate(f):\n",
    "        if (i + 1) % 10000 == 0:\n",
    "            print(f'{100 * i / 2196017}% complete.', end = '\\r')\n",
    "        glove_embeddings_index.append(get_coefs(*l.split(\" \")))\n",
    "        \n",
    "glove_embeddings_index = dict(glove_embeddings_index)"
   ]
  },
  {
   "cell_type": "code",
   "execution_count": 59,
   "metadata": {},
   "outputs": [],
   "source": [
    "EMBEDDING_FILE = datadir + 'wiki-news-300d-1M/wiki-news-300d-1M.vec'"
   ]
  },
  {
   "cell_type": "code",
   "execution_count": null,
   "metadata": {},
   "outputs": [],
   "source": [
    "!wc -l {EMBEDDING_FILE}"
   ]
  },
  {
   "cell_type": "code",
   "execution_count": 60,
   "metadata": {},
   "outputs": [
    {
     "name": "stdout",
     "output_type": "stream",
     "text": [
      "9.899994949997476% complete.\r"
     ]
    }
   ],
   "source": [
    "wiki_embeddings_index = []\n",
    "\n",
    "with open(EMBEDDING_FILE) as f:\n",
    "    for i, l in enumerate(f):\n",
    "        if (i + 1) % 10000 == 0:\n",
    "            print(f'{100 * i / 9999995}% complete.', end = '\\r')\n",
    "        wiki_embeddings_index.append(get_coefs(*l.split(\" \")))\n",
    "        \n",
    "wiki_embeddings_index = dict(wiki_embeddings_index)"
   ]
  },
  {
   "cell_type": "markdown",
   "metadata": {},
   "source": [
    "### Embeddings into matrix"
   ]
  },
  {
   "cell_type": "code",
   "execution_count": 66,
   "metadata": {},
   "outputs": [],
   "source": [
    "def create_embedding_matrix(word_index, embedding_index):\n",
    "    \n",
    "    embedding_matrix = np.random.normal(loc = 0, scale = 1/np.sqrt(vs), \n",
    "                                        size = (vs, embedding_index['the'].shape[0]))\n",
    "    not_found = 0\n",
    "    for i, word in enumerate(word_index.keys()):\n",
    "        if (i + 1) % 10000 == 0:\n",
    "            print(f'{100 * i / len(word_index)}% complete.', end = '\\r')\n",
    "        \n",
    "        vector = embedding_index.get(word)\n",
    "        if vector is not None:\n",
    "            embedding_matrix[i, :] = vector\n",
    "        else:\n",
    "            not_found += 1\n",
    "    \n",
    "    print(not_found, ' words were not found.')\n",
    "    return embedding_matrix"
   ]
  },
  {
   "cell_type": "code",
   "execution_count": 67,
   "metadata": {},
   "outputs": [
    {
     "name": "stdout",
     "output_type": "stream",
     "text": [
      "16.740892043932494% complete.\r",
      "33.48345834449504% complete.\r",
      "50.22602464505759% complete.\r",
      "66.96859094562015% complete.\r",
      "83.7111572461827% complete.\r",
      "3132  words were not found.\n"
     ]
    },
    {
     "data": {
      "text/plain": [
       "(59728, 300)"
      ]
     },
     "execution_count": 67,
     "metadata": {},
     "output_type": "execute_result"
    }
   ],
   "source": [
    "glove_embeddings = create_embedding_matrix(word_index, glove_embeddings_index)\n",
    "glove_embeddings.shape"
   ]
  },
  {
   "cell_type": "code",
   "execution_count": 69,
   "metadata": {},
   "outputs": [
    {
     "name": "stdout",
     "output_type": "stream",
     "text": [
      "3601  words were not found...\n"
     ]
    },
    {
     "data": {
      "text/plain": [
       "(59728, 300)"
      ]
     },
     "execution_count": 69,
     "metadata": {},
     "output_type": "execute_result"
    }
   ],
   "source": [
    "wiki_embeddings = create_embedding_matrix(word_index, wiki_embeddings_index)\n",
    "wiki_embeddings.shape"
   ]
  },
  {
   "cell_type": "code",
   "execution_count": 70,
   "metadata": {},
   "outputs": [],
   "source": [
    "np.save('word_glove_embeddings.npy', glove_embeddings)"
   ]
  },
  {
   "cell_type": "code",
   "execution_count": 71,
   "metadata": {},
   "outputs": [],
   "source": [
    "np.save('word_wiki_embeddings.npy', wiki_embeddings)"
   ]
  },
  {
   "cell_type": "markdown",
   "metadata": {},
   "source": [
    "## Function to Load in Data"
   ]
  },
  {
   "cell_type": "code",
   "execution_count": 76,
   "metadata": {},
   "outputs": [],
   "source": [
    "def load_data(data_name, embedding_name):\n",
    "    if embedding_name == 'wiki':\n",
    "        if data_name == 'word':\n",
    "            embedding_matrix = np.load('word_wiki_embeddings.npy')\n",
    "    elif embedding_name == 'glove':\n",
    "        if data_name == 'word':\n",
    "            embedding_matrix = np.load('word_glove_embeddings.npy')\n",
    "            \n",
    "    if data_name == 'word':\n",
    "        seq_arr = np.load('word_sequences.npy')\n",
    "        test_seq_arr = np.load('test_word_sequences.npy')\n",
    "        labels = np.load('word_labels.npy')\n",
    "        iw = []\n",
    "        with open('word_index_word.json', 'r') as f:\n",
    "            for l in f:\n",
    "                iw.append(json.loads(l))\n",
    "\n",
    "        index_word = iw[0]\n",
    "        index_word = {int(key): word for key, word in index_word.items()}\n",
    "\n",
    "        wi = []\n",
    "        with open('word_word_index.json', 'r') as f:\n",
    "            for l in f:\n",
    "                wi.append(json.loads(l))\n",
    "\n",
    "        word_index = wi[0]\n",
    "        word_index = {word: int(index) for word, index in word_index.items()}\n",
    "            \n",
    "        vs = len(word_index)\n",
    "    return seq_arr, test_seq_arr, labels, word_index, index_word, vs, embedding_matrix"
   ]
  },
  {
   "cell_type": "code",
   "execution_count": 77,
   "metadata": {},
   "outputs": [
    {
     "data": {
      "text/plain": [
       "((1099063, 30), (56370, 30))"
      ]
     },
     "execution_count": 77,
     "metadata": {},
     "output_type": "execute_result"
    }
   ],
   "source": [
    "seq_arr, test_seq_arr, labels, word_index, index_word, vs, embedding_matrix = load_data('word', 'glove')\n",
    "seq_arr.shape, test_seq_arr.shape, embedding_matrix.shape"
   ]
  },
  {
   "cell_type": "markdown",
   "metadata": {},
   "source": [
    "# Character Level Embeddings\n",
    "\n",
    "Next we'll look at embedding the data as characters. We can use the same Tokenizer method."
   ]
  },
  {
   "cell_type": "code",
   "execution_count": 6,
   "metadata": {},
   "outputs": [
    {
     "name": "stdout",
     "output_type": "stream",
     "text": [
      "There are 322 characters with more than 10 occurrences.\n"
     ]
    }
   ],
   "source": [
    "tokenizer = Tokenizer(filters = '', lower = False, char_level = True)\n",
    "tokenizer.fit_on_texts(texts)\n",
    "\n",
    "wc = tokenizer.word_counts\n",
    "wc = sorted(wc.items(), key = lambda x: x[1], reverse = True)\n",
    "\n",
    "keep_min = 10\n",
    "keep = [count[0] for count in wc if count[1] >= keep_min]\n",
    "\n",
    "print(f'There are {len(keep)} characters with more than {keep_min} occurrences.')"
   ]
  },
  {
   "cell_type": "code",
   "execution_count": 29,
   "metadata": {},
   "outputs": [
    {
     "data": {
      "text/plain": [
       "(1306122, 56370)"
      ]
     },
     "execution_count": 29,
     "metadata": {},
     "output_type": "execute_result"
    }
   ],
   "source": [
    "tokenizer = Tokenizer(num_words = len(keep), lower = False,\n",
    "                      char_level = True,\n",
    "                      filters = '', oov_token = 'UNK')\n",
    "tokenizer.fit_on_texts(texts)\n",
    "chars = tokenizer.texts_to_sequences(texts)\n",
    "test_chars = tokenizer.texts_to_sequences(test_texts)\n",
    "\n",
    "len(chars), len(test_chars)"
   ]
  },
  {
   "cell_type": "code",
   "execution_count": null,
   "metadata": {},
   "outputs": [
    {
     "data": {
      "text/plain": [
       "(323, 322)"
      ]
     },
     "execution_count": 30,
     "metadata": {},
     "output_type": "execute_result"
    }
   ],
   "source": [
    "word_index = dict(list(tokenizer.word_index.items())[:len(keep)])\n",
    "word_index['PAD'] = 0\n",
    "len(word_index), tokenizer.num_words"
   ]
  },
  {
   "cell_type": "code",
   "execution_count": null,
   "metadata": {},
   "outputs": [],
   "source": [
    "index_word = dict(list(tokenizer.index_word.items())[:len(keep)])\n",
    "index_word[0] = 'PAD'\n",
    "vs = tokenizer.num_words + 1"
   ]
  },
  {
   "cell_type": "code",
   "execution_count": null,
   "metadata": {},
   "outputs": [],
   "source": [
    "wc = tokenizer.word_counts\n",
    "wc = sorted(wc.items(), key = lambda x: x[1], reverse = True)\n",
    "wc[:15]"
   ]
  },
  {
   "cell_type": "code",
   "execution_count": null,
   "metadata": {},
   "outputs": [],
   "source": [
    "lens = [len(s) for s in chars]\n",
    "min(lens), max(lens)"
   ]
  },
  {
   "cell_type": "code",
   "execution_count": null,
   "metadata": {},
   "outputs": [],
   "source": [
    "min_char_len = 30\n",
    "max_char_len = 150\n",
    "\n",
    "np.sum(np.array(lens) < min_char_len), np.sum(np.array(lens) > max_char_len)"
   ]
  },
  {
   "cell_type": "code",
   "execution_count": null,
   "metadata": {},
   "outputs": [],
   "source": [
    "idx = [i for i, c in enumerate(chars) if (len(c) >= min_char_len and len(c) <= max_char_len)]\n",
    "len(idx)"
   ]
  },
  {
   "cell_type": "code",
   "execution_count": null,
   "metadata": {},
   "outputs": [],
   "source": [
    "chars = pad_sequences(chars, max_char_len)\n",
    "test_chars = pad_sequences(test_chars, max_char_len)\n",
    "\n",
    "chars = chars[idx]\n",
    "labels = np.array(labels)[idx]\n",
    "\n",
    "chars.shape, test_chars.shape"
   ]
  },
  {
   "cell_type": "code",
   "execution_count": null,
   "metadata": {},
   "outputs": [],
   "source": [
    "np.save('char_sequences.npy', chars)\n",
    "np.save('char_labels.npy', labels)\n",
    "np.save('test_char_sequences.npy', test_chars)"
   ]
  },
  {
   "cell_type": "code",
   "execution_count": null,
   "metadata": {},
   "outputs": [],
   "source": [
    "import json\n",
    "\n",
    "with open('char_word_index.json', 'w') as f:\n",
    "    f.write(json.dumps(word_index))\n",
    "    \n",
    "with open('char_index_word.json', 'w') as f:\n",
    "    f.write(json.dumps(index_word))\n",
    "    \n",
    "with open('char_wc.json', 'w') as f:\n",
    "    f.write(json.dumps(wc))"
   ]
  },
  {
   "cell_type": "code",
   "execution_count": null,
   "metadata": {},
   "outputs": [],
   "source": []
  }
 ],
 "metadata": {
  "kernelspec": {
   "display_name": "Python 3",
   "language": "python",
   "name": "python3"
  },
  "toc": {
   "base_numbering": 1,
   "nav_menu": {},
   "number_sections": true,
   "sideBar": true,
   "skip_h1_title": false,
   "title_cell": "Table of Contents",
   "title_sidebar": "Contents",
   "toc_cell": false,
   "toc_position": {},
   "toc_section_display": true,
   "toc_window_display": false
  },
  "varInspector": {
   "cols": {
    "lenName": 16,
    "lenType": 16,
    "lenVar": 40
   },
   "kernels_config": {
    "python": {
     "delete_cmd_postfix": "",
     "delete_cmd_prefix": "del ",
     "library": "var_list.py",
     "varRefreshCmd": "print(var_dic_list())"
    },
    "r": {
     "delete_cmd_postfix": ") ",
     "delete_cmd_prefix": "rm(",
     "library": "var_list.r",
     "varRefreshCmd": "cat(var_dic_list()) "
    }
   },
   "types_to_exclude": [
    "module",
    "function",
    "builtin_function_or_method",
    "instance",
    "_Feature"
   ],
   "window_display": false
  }
 },
 "nbformat": 4,
 "nbformat_minor": 2
}
